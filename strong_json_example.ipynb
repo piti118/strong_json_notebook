{
 "cells": [
  {
   "cell_type": "markdown",
   "metadata": {},
   "source": [
    "# Strong Json\n",
    "A more faithful json encoder,decoder."
   ]
  },
  {
   "cell_type": "code",
   "execution_count": 1,
   "metadata": {},
   "outputs": [],
   "source": [
    "# sometimes binder can be slow in getting the lastest lib\n",
    "# !pip install --upgrade strong_json"
   ]
  },
  {
   "cell_type": "code",
   "execution_count": 2,
   "metadata": {},
   "outputs": [],
   "source": [
    "from strong_json import strong_json, ToJsonable, StrongJson, JSONPrimitive\n",
    "from datetime import date"
   ]
  },
  {
   "cell_type": "markdown",
   "metadata": {},
   "source": [
    "# Simple Usage"
   ]
  },
  {
   "cell_type": "markdown",
   "metadata": {},
   "source": [
    "## Encode JSON"
   ]
  },
  {
   "cell_type": "code",
   "execution_count": 3,
   "metadata": {},
   "outputs": [
    {
     "data": {
      "text/plain": [
       "'[1, \"hello\", 2.3, 1.0]'"
      ]
     },
     "execution_count": 3,
     "metadata": {},
     "output_type": "execute_result"
    }
   ],
   "source": [
    "obj = [1, 'hello', 2.3, 1.0]\n",
    "strong_json.to_json(obj)"
   ]
  },
  {
   "cell_type": "code",
   "execution_count": 4,
   "metadata": {
    "scrolled": false
   },
   "outputs": [
    {
     "name": "stdout",
     "output_type": "stream",
     "text": [
      "{\n",
      "  \"__type__\": \"dict\",\n",
      "  \"__data__\": [\n",
      "    {\n",
      "      \"key\": \"list\",\n",
      "      \"value\": [\n",
      "        1,\n",
      "        2,\n",
      "        3\n",
      "      ]\n",
      "    },\n",
      "    {\n",
      "      \"key\": \"str\",\n",
      "      \"value\": \"hello\"\n",
      "    },\n",
      "    {\n",
      "      \"key\": \"tuple\",\n",
      "      \"value\": {\n",
      "        \"__type__\": \"tuple\",\n",
      "        \"__data__\": [\n",
      "          3,\n",
      "          5\n",
      "        ]\n",
      "      }\n",
      "    },\n",
      "    {\n",
      "      \"key\": \"nested\",\n",
      "      \"value\": {\n",
      "        \"__type__\": \"dict\",\n",
      "        \"__data__\": [\n",
      "          {\n",
      "            \"key\": \"c.a\",\n",
      "            \"value\": 1\n",
      "          },\n",
      "          {\n",
      "            \"key\": \"c.b\",\n",
      "            \"value\": 2\n",
      "          },\n",
      "          {\n",
      "            \"key\": \"c.c\",\n",
      "            \"value\": 3\n",
      "          }\n",
      "        ]\n",
      "      }\n",
      "    },\n",
      "    {\n",
      "      \"key\": \"date\",\n",
      "      \"value\": {\n",
      "        \"__type__\": \"date\",\n",
      "        \"year\": 2019,\n",
      "        \"month\": 8,\n",
      "        \"day\": 23\n",
      "      }\n",
      "    }\n",
      "  ]\n",
      "}\n"
     ]
    }
   ],
   "source": [
    "obj = {\n",
    "    'list': [1,2,3],\n",
    "    'str': 'hello',\n",
    "    'tuple': (3,5),\n",
    "    'nested': {'c.a':1, 'c.b':2, 'c.c':3},\n",
    "    'date': date(2019, 8, 23)\n",
    "}\n",
    "obj_json = strong_json.to_json(obj, indent=2) # all the keyword argument are passed to json.dumps\n",
    "print(obj_json)"
   ]
  },
  {
   "cell_type": "code",
   "execution_count": 5,
   "metadata": {},
   "outputs": [
    {
     "name": "stdout",
     "output_type": "stream",
     "text": [
      "{\"__type__\": \"numpy.ndarray\", \"__data__\": [1, 2, 3]}\n",
      "{\"__type__\": \"pandas.DataFrame\", \"__data__\": {\"__type__\": \"dict\", \"__data__\": [{\"key\": \"a\", \"value\": {\"__type__\": \"dict\", \"__data__\": [{\"key\": 0, \"value\": 1}, {\"key\": 1, \"value\": 2}]}}, {\"key\": \"b\", \"value\": {\"__type__\": \"dict\", \"__data__\": [{\"key\": 0, \"value\": 3}, {\"key\": 1, \"value\": 4}]}}]}}\n"
     ]
    }
   ],
   "source": [
    "# numpy is also supported\n",
    "import numpy as np\n",
    "import pandas as pd\n",
    "a = np.array([1,2,3])\n",
    "b = pd.DataFrame({'a':[1,2], 'b':[3,4]})\n",
    "print(strong_json.to_json(a))\n",
    "print(strong_json.to_json(b))"
   ]
  },
  {
   "cell_type": "markdown",
   "metadata": {},
   "source": [
    "### Custom Class Encoder"
   ]
  },
  {
   "cell_type": "markdown",
   "metadata": {},
   "source": [
    "Custom class Encoder is supported out of the box"
   ]
  },
  {
   "cell_type": "code",
   "execution_count": 6,
   "metadata": {},
   "outputs": [
    {
     "name": "stdout",
     "output_type": "stream",
     "text": [
      "{\"__type__\": \"User\", \"first_name\": \"Hello\", \"last_name\": \"World\"}\n"
     ]
    },
    {
     "name": "stderr",
     "output_type": "stream",
     "text": [
      "/Library/Frameworks/Python.framework/Versions/3.7/lib/python3.7/site-packages/strong_json/__init__.py:119: ClassMapLookUpFailWarning: User not found in class map. You will not be able to convert this back.\n",
      "  ClassMapLookUpFailWarning)\n"
     ]
    }
   ],
   "source": [
    "class User:\n",
    "    def __init__(self, first_name, last_name):\n",
    "        self.first_name = first_name\n",
    "        self.last_name = last_name\n",
    "    def __str__(self):\n",
    "        return f\"User({self.first_name}, {self.last_name})\"\n",
    "    def __repr__(self):\n",
    "        return str(self)\n",
    "    def __hash__(self):\n",
    "        return hash((self.first_name, self.last_name))\n",
    "       \n",
    "obj = User('Hello', 'World')\n",
    "got = strong_json.to_json(obj)\n",
    "print(got)"
   ]
  },
  {
   "cell_type": "code",
   "execution_count": 7,
   "metadata": {},
   "outputs": [
    {
     "name": "stdout",
     "output_type": "stream",
     "text": [
      "{\n",
      " \"__type__\": \"dict\",\n",
      " \"__data__\": [\n",
      "  {\n",
      "   \"key\": {\n",
      "    \"__type__\": \"User\",\n",
      "    \"first_name\": \"Mario\",\n",
      "    \"last_name\": \"Mario\"\n",
      "   },\n",
      "   \"value\": \"Main Character\"\n",
      "  },\n",
      "  {\n",
      "   \"key\": {\n",
      "    \"__type__\": \"User\",\n",
      "    \"first_name\": \"Luigi\",\n",
      "    \"last_name\": \"Mario\"\n",
      "   },\n",
      "   \"value\": \"Side Kick\"\n",
      "  }\n",
      " ]\n",
      "}\n"
     ]
    },
    {
     "name": "stderr",
     "output_type": "stream",
     "text": [
      "/Library/Frameworks/Python.framework/Versions/3.7/lib/python3.7/site-packages/strong_json/__init__.py:119: ClassMapLookUpFailWarning: User not found in class map. You will not be able to convert this back.\n",
      "  ClassMapLookUpFailWarning)\n"
     ]
    }
   ],
   "source": [
    "obj = {User('Mario', 'Mario'): 'Main Character', User('Luigi', 'Mario'): 'Side Kick'}\n",
    "got = strong_json.to_json(obj, indent=1)\n",
    "print(got)"
   ]
  },
  {
   "cell_type": "markdown",
   "metadata": {},
   "source": [
    "### Custom Encoder\n",
    "\n",
    "If the default custom class encoder doesn't work for you. You could just implement ```ToJsonable``` interface and override \n",
    "```\n",
    "def to_json_dict(self, encoder: StrongJson) -> Dict[str, JSONPrimitive]:\n",
    "```"
   ]
  },
  {
   "cell_type": "code",
   "execution_count": 8,
   "metadata": {},
   "outputs": [
    {
     "data": {
      "text/plain": [
       "'{\"__type__\": \"FullUser\", \"first\": \"hello\", \"last\": \"world\", \"full_name\": \"hello world\"}'"
      ]
     },
     "execution_count": 8,
     "metadata": {},
     "output_type": "execute_result"
    }
   ],
   "source": [
    "class FullUser(ToJsonable):\n",
    "    def __init__(self, first, last):\n",
    "        self.first = first\n",
    "        self.last = last\n",
    "    def to_json_dict(self, encoder: StrongJson):\n",
    "        return {\n",
    "            '__type__': 'FullUser',\n",
    "            'first': encoder.to_json_dict(self.first),\n",
    "            'last': encoder.to_json_dict(self.last),\n",
    "            'full_name': encoder.to_json_dict(f\"{self.first} {self.last}\")\n",
    "        }\n",
    "    \n",
    "strong_json.to_json(FullUser('hello', 'world'))"
   ]
  },
  {
   "cell_type": "markdown",
   "metadata": {},
   "source": [
    "## Decode JSON"
   ]
  },
  {
   "cell_type": "code",
   "execution_count": 9,
   "metadata": {},
   "outputs": [
    {
     "name": "stdout",
     "output_type": "stream",
     "text": [
      "{'date': datetime.date(2019, 8, 23),\n",
      " 'list': [1, 2, 3],\n",
      " 'nested': {'c.a': 1, 'c.b': 2, 'c.c': 3},\n",
      " 'str': 'hello',\n",
      " 'tuple': (3, 5)}\n",
      "['list', 'str', 'tuple', 'nested', 'date']\n"
     ]
    }
   ],
   "source": [
    "got = strong_json.from_json(obj_json)\n",
    "from pprint import pprint\n",
    "pprint(got) # pprint doesn't print dict in the correct order though\n",
    "print(list(got.keys())) # the key is sorted correctly"
   ]
  },
  {
   "cell_type": "code",
   "execution_count": 10,
   "metadata": {},
   "outputs": [
    {
     "data": {
      "text/plain": [
       "{'a': 'b', 'c': 'd'}"
      ]
     },
     "execution_count": 10,
     "metadata": {},
     "output_type": "execute_result"
    }
   ],
   "source": [
    "# don't worry normal json dict is decoder is supported\n",
    "strong_json.from_json('{\"a\": \"b\", \"c\":\"d\"}')"
   ]
  },
  {
   "cell_type": "code",
   "execution_count": 11,
   "metadata": {},
   "outputs": [
    {
     "name": "stdout",
     "output_type": "stream",
     "text": [
      "{\"__type__\": \"numpy.ndarray\", \"__data__\": [1, 2, 3]}\n",
      "[1 2 3]\n"
     ]
    }
   ],
   "source": [
    "# numpy is also supported\n",
    "import numpy as np\n",
    "import pandas as pd\n",
    "a = np.array([1,2,3])\n",
    "a_json = strong_json.to_json(a)\n",
    "print(a_json)\n",
    "got = strong_json.from_json(a_json)\n",
    "print(got)\n"
   ]
  },
  {
   "cell_type": "code",
   "execution_count": 12,
   "metadata": {},
   "outputs": [
    {
     "name": "stdout",
     "output_type": "stream",
     "text": [
      "{\"__type__\": \"pandas.DataFrame\", \"__data__\": {\"__type__\": \"dict\", \"__data__\": [{\"key\": \"a\", \"value\": {\"__type__\": \"dict\", \"__data__\": [{\"key\": 0, \"value\": 1}, {\"key\": 1, \"value\": 2}]}}, {\"key\": \"b\", \"value\": {\"__type__\": \"dict\", \"__data__\": [{\"key\": 0, \"value\": 3}, {\"key\": 1, \"value\": 4}]}}]}}\n"
     ]
    },
    {
     "data": {
      "text/html": [
       "<div>\n",
       "<style scoped>\n",
       "    .dataframe tbody tr th:only-of-type {\n",
       "        vertical-align: middle;\n",
       "    }\n",
       "\n",
       "    .dataframe tbody tr th {\n",
       "        vertical-align: top;\n",
       "    }\n",
       "\n",
       "    .dataframe thead th {\n",
       "        text-align: right;\n",
       "    }\n",
       "</style>\n",
       "<table border=\"1\" class=\"dataframe\">\n",
       "  <thead>\n",
       "    <tr style=\"text-align: right;\">\n",
       "      <th></th>\n",
       "      <th>a</th>\n",
       "      <th>b</th>\n",
       "    </tr>\n",
       "  </thead>\n",
       "  <tbody>\n",
       "    <tr>\n",
       "      <td>0</td>\n",
       "      <td>1</td>\n",
       "      <td>3</td>\n",
       "    </tr>\n",
       "    <tr>\n",
       "      <td>1</td>\n",
       "      <td>2</td>\n",
       "      <td>4</td>\n",
       "    </tr>\n",
       "  </tbody>\n",
       "</table>\n",
       "</div>"
      ],
      "text/plain": [
       "   a  b\n",
       "0  1  3\n",
       "1  2  4"
      ]
     },
     "execution_count": 12,
     "metadata": {},
     "output_type": "execute_result"
    }
   ],
   "source": [
    "b = pd.DataFrame({'a':[1,2], 'b':[3,4]})\n",
    "b_json = strong_json.to_json(b)\n",
    "print(b_json)\n",
    "\n",
    "got = strong_json.from_json(b_json)\n",
    "got"
   ]
  },
  {
   "cell_type": "markdown",
   "metadata": {},
   "source": [
    "### Custom Class Decoder"
   ]
  },
  {
   "cell_type": "code",
   "execution_count": 13,
   "metadata": {},
   "outputs": [],
   "source": [
    "from strong_json import ClassMapBuilder\n",
    "class_map = ClassMapBuilder.build_class_map(\n",
    "    [User]\n",
    ")\n",
    "class_map # just a simple dictionary\n",
    "custom_json = StrongJson(class_map=class_map)"
   ]
  },
  {
   "cell_type": "code",
   "execution_count": 14,
   "metadata": {},
   "outputs": [
    {
     "name": "stdout",
     "output_type": "stream",
     "text": [
      "{\"__type__\": \"dict\", \"__data__\": [{\"key\": {\"__type__\": \"User\", \"first_name\": \"Mario\", \"last_name\": \"Mario\"}, \"value\": \"Main Character\"}, {\"key\": {\"__type__\": \"User\", \"first_name\": \"Luigi\", \"last_name\": \"Mario\"}, \"value\": \"Side Kick\"}]}\n",
      "{User(Luigi, Mario): 'Side Kick', User(Mario, Mario): 'Main Character'}\n"
     ]
    }
   ],
   "source": [
    "obj = {User('Mario', 'Mario'): 'Main Character', User('Luigi', 'Mario'): 'Side Kick'}\n",
    "json_str = custom_json.to_json(obj)\n",
    "print(json_str)\n",
    "# decode it back\n",
    "got_obj = custom_json.from_json(json_str)\n",
    "pprint(got_obj)"
   ]
  },
  {
   "cell_type": "markdown",
   "metadata": {},
   "source": [
    "#### If you really cannot to use the mixin\n",
    "You can subclass StrongJson and add the functionality"
   ]
  },
  {
   "cell_type": "code",
   "execution_count": 15,
   "metadata": {},
   "outputs": [],
   "source": [
    "class MixinHater:\n",
    "    def __init__(self, msg: str):\n",
    "        self.msg = msg\n",
    "        \n",
    "    def __str__(self):\n",
    "        return f'MixinHater({self.msg})'\n",
    "\n",
    "        \n",
    "class CustomJson(StrongJson):\n",
    "    def to_json_dict(self, obj):\n",
    "        if isinstance(obj, MixinHater):\n",
    "            return {\n",
    "                self.type_key: 'MixinHater',\n",
    "                'msg': self.default_to_json_dict(obj.msg)\n",
    "            }\n",
    "        else:\n",
    "            return self.default_to_json_dict(obj)\n",
    "        \n",
    "    def from_json_dict(self, d):\n",
    "        if self.type_key in d and d[self.type_key] == 'MixinHater':\n",
    "            return MixinHater(d['msg'])\n",
    "\n",
    "custom_json=CustomJson(class_map={})"
   ]
  },
  {
   "cell_type": "code",
   "execution_count": 16,
   "metadata": {},
   "outputs": [],
   "source": [
    "json_str = custom_json.to_json(MixinHater('why not'))"
   ]
  },
  {
   "cell_type": "code",
   "execution_count": 17,
   "metadata": {},
   "outputs": [
    {
     "name": "stdout",
     "output_type": "stream",
     "text": [
      "MixinHater(why not)\n"
     ]
    }
   ],
   "source": [
    "obj = custom_json.from_json(json_str)\n",
    "print(obj)"
   ]
  },
  {
   "cell_type": "code",
   "execution_count": null,
   "metadata": {},
   "outputs": [],
   "source": []
  }
 ],
 "metadata": {
  "kernelspec": {
   "display_name": "Python 3",
   "language": "python",
   "name": "python3"
  },
  "language_info": {
   "codemirror_mode": {
    "name": "ipython",
    "version": 3
   },
   "file_extension": ".py",
   "mimetype": "text/x-python",
   "name": "python",
   "nbconvert_exporter": "python",
   "pygments_lexer": "ipython3",
   "version": "3.7.3"
  },
  "toc": {
   "colors": {
    "hover_highlight": "#DAA520",
    "running_highlight": "#FF0000",
    "selected_highlight": "#FFD700"
   },
   "moveMenuLeft": true,
   "nav_menu": {
    "height": "156px",
    "width": "252px"
   },
   "navigate_menu": true,
   "number_sections": false,
   "sideBar": true,
   "threshold": 4,
   "toc_cell": false,
   "toc_section_display": "block",
   "toc_window_display": true
  }
 },
 "nbformat": 4,
 "nbformat_minor": 2
}
